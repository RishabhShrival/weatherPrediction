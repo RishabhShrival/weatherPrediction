{
 "cells": [
  {
   "cell_type": "code",
   "execution_count": 2,
   "metadata": {},
   "outputs": [
    {
     "ename": "SyntaxError",
     "evalue": "invalid decimal literal (21606604.py, line 19)",
     "output_type": "error",
     "traceback": [
      "\u001b[1;36m  Input \u001b[1;32mIn [2]\u001b[1;36m\u001b[0m\n\u001b[1;33m    6y5du73k\u001b[0m\n\u001b[1;37m    ^\u001b[0m\n\u001b[1;31mSyntaxError\u001b[0m\u001b[1;31m:\u001b[0m invalid decimal literal\n"
     ]
    }
   ],
   "source": [
    "import os\n",
    "import shutil\n",
    "# Create target Directory if don't exist\n",
    "img_path = './dataset/'\n",
    "src_dir = './dataset/'\n",
    "# with open(img_path, \"r\") as f:\n",
    "#     pass\n",
    "# path to destination directory\n",
    "dest_dir = './dataset/rig'\n",
    "# getting all the files in the source directory\n",
    "files = os.listdir(src_dir) \n",
    "class_names = sorted(os.listdir(img_path))\n",
    "for i in class_names:\n",
    "    shutil.copytree(src_dir + i, dest_dir,dirs_exist_ok=True)\n",
    "\n"
   ]
  }
 ],
 "metadata": {
  "kernelspec": {
   "display_name": "Python 3.10.4 64-bit",
   "language": "python",
   "name": "python3"
  },
  "language_info": {
   "codemirror_mode": {
    "name": "ipython",
    "version": 3
   },
   "file_extension": ".py",
   "mimetype": "text/x-python",
   "name": "python",
   "nbconvert_exporter": "python",
   "pygments_lexer": "ipython3",
   "version": "3.10.4"
  },
  "orig_nbformat": 4,
  "vscode": {
   "interpreter": {
    "hash": "26de051ba29f2982a8de78e945f0abaf191376122a1563185a90213a26c5da77"
   }
  }
 },
 "nbformat": 4,
 "nbformat_minor": 2
}
